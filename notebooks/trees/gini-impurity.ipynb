{
 "cells": [
  {
   "cell_type": "markdown",
   "metadata": {},
   "source": [
    "# Computing gini impurity\n",
    "\n",
    "Decision trees use the gini impurity index as a measure of uncertainty; it is like entropy except faster to compute because it does not involve logarithms. Given a list of $k$ probabilities for a $k$-class classification problem, gini impurity gives a value between 0 and $(k - 1)/k$. For the common case of binary classification ($k=2$), gini impurity is between 0 and 0.5. Here is the formula given a vector of probabilities for each class:\n",
    "\n",
    "$$\n",
    "Gini({\\bf p}) = \\sum_{i=1}^{k} p_i \\left[ \\sum_{j \\ne i}^k p_j \\right] = \\sum_{i=1}^{k} p_i (1 - p_i) = \\sum_{i=1}^{k} p_i - \\sum_{i=1}^{k} p_i^2 = 1 - \\sum_{i=1}^{k} p_i^2\n",
    "$$\n",
    "\n",
    "where $p_i = \\frac{|y[y==i]|}{|y|}$. Since $\\sum_{j \\ne i}^k p_j$ is the probability of \"not $p_i$\", we can summarize that as just $1-p_i$. The gini value is then computing $p_i$ times \"not $p_i$\" for $k$ classes.  Value $p_i$ is the probability of seeing class $i$ in a list of target values, $y$. "
   ]
  },
  {
   "cell_type": "markdown",
   "metadata": {},
   "source": [
    "## Range of gini impurity\n",
    "\n",
    "The minimum value occurs when exactly one $p_i$ has nonzero probability, which must mean $p_i=1.0$. The gini impurity is then 1-1 = 0.\n",
    "\n",
    "The maximum value occurs when there is maximum uncertainty, which would mean all probabilities are equal (and sum to 1.0): $p_i = p_j ~\\forall ~i \\neq j$.  Equal probabilities for $k$ classes means that $p_i = 1/k$ and therefore $1 - \\sum_{i=1}^{k} p_i^2 = 1 - \\sum_{i=1}^{k} 1/k^2 = 1 - k/k^2 = 1 - 1/k = (k-1)/k$.  The maximum value of that is when $1/k$ is at its smallest, which is when $k$ it gets really big. As $k$ gets bigger, $1/k$ goes to 0, leaving the maximum gini impurity as 1-0 = 1. You can see from the following iterations that the more classes we have, the smaller the second term becomes very small for large $k$:"
   ]
  },
  {
   "cell_type": "code",
   "execution_count": 12,
   "metadata": {},
   "outputs": [
    {
     "name": "stdout",
     "output_type": "stream",
     "text": [
      "   2-class problem: sum(p^2)=0.5000, 1/k=0.5000\n",
      "   3-class problem: sum(p^2)=0.3333, 1/k=0.3333\n",
      "  10-class problem: sum(p^2)=0.1000, 1/k=0.1000\n",
      "1000-class problem: sum(p^2)=0.0010, 1/k=0.0010\n"
     ]
    }
   ],
   "source": [
    "import numpy as np\n",
    "for k in [2,3,10,1000]:\n",
    "    p = np.full(shape=(k,), fill_value=1.0/k)\n",
    "    print(f\"{k:4d}-class problem: sum(p^2)={np.sum(p**2):.4f}, 1/k={1/k:.4f}\")"
   ]
  },
  {
   "cell_type": "code",
   "execution_count": 14,
   "metadata": {},
   "outputs": [],
   "source": [
    "def gini(y):\n",
    "    \"\"\"\n",
    "    Compute gini impurity from y vector of class values (from k unique values).\n",
    "    Result is in range 0..(k-1/k) inclusive; binary range is 0..1/2.\n",
    "    See https://en.wikipedia.org/wiki/Decision_tree_learning#Gini_impurity\"\n",
    "    \"\"\"\n",
    "    _, counts = np.unique(y, return_counts=True)\n",
    "    p = counts / len(y)\n",
    "    return 1 - np.sum( p**2 )"
   ]
  },
  {
   "cell_type": "markdown",
   "metadata": {},
   "source": [
    "# Play"
   ]
  },
  {
   "cell_type": "code",
   "execution_count": 30,
   "metadata": {},
   "outputs": [
    {
     "name": "stdout",
     "output_type": "stream",
     "text": [
      "1\n"
     ]
    },
    {
     "data": {
      "text/plain": [
       "0.6"
      ]
     },
     "execution_count": 30,
     "metadata": {},
     "output_type": "execute_result"
    }
   ],
   "source": [
    "from scipy.stats import mode\n",
    "y_preds = np.array([0,0,1,1,1])\n",
    "y_pred,_ = mode(y_preds)\n",
    "y_pred = y_pred[0]\n",
    "print(y_pred)\n",
    "T = len(y_preds)\n",
    "np.sum(y_preds==y_pred) / T"
   ]
  },
  {
   "cell_type": "code",
   "execution_count": 38,
   "metadata": {},
   "outputs": [
    {
     "data": {
      "text/plain": [
       "0.625"
      ]
     },
     "execution_count": 38,
     "metadata": {},
     "output_type": "execute_result"
    }
   ],
   "source": [
    "y_preds = np.array([0,0,0,1])\n",
    "1 - gini(y_preds)"
   ]
  },
  {
   "cell_type": "code",
   "execution_count": null,
   "metadata": {},
   "outputs": [],
   "source": []
  }
 ],
 "metadata": {
  "kernelspec": {
   "display_name": "Python 3",
   "language": "python",
   "name": "python3"
  },
  "language_info": {
   "codemirror_mode": {
    "name": "ipython",
    "version": 3
   },
   "file_extension": ".py",
   "mimetype": "text/x-python",
   "name": "python",
   "nbconvert_exporter": "python",
   "pygments_lexer": "ipython3",
   "version": "3.8.6"
  }
 },
 "nbformat": 4,
 "nbformat_minor": 4
}
