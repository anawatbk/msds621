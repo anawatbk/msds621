{
 "cells": [
  {
   "cell_type": "markdown",
   "metadata": {},
   "source": [
    "# Model assessment basics"
   ]
  },
  {
   "cell_type": "code",
   "execution_count": 1,
   "metadata": {},
   "outputs": [],
   "source": [
    "import pandas as pd\n",
    "import numpy as np\n",
    "from sklearn.linear_model import LinearRegression, Ridge, Lasso, LogisticRegression\n",
    "from sklearn.model_selection import train_test_split\n",
    "from sklearn.ensemble import RandomForestRegressor, RandomForestClassifier\n",
    "from sklearn.metrics import r2_score, mean_absolute_error, mean_squared_error\n",
    "from sklearn.model_selection import KFold\n",
    "from sklearn.model_selection import cross_val_score\n",
    "from sklearn.datasets import load_boston, load_iris, load_wine, load_digits, \\\n",
    "                             load_breast_cancer, load_diabetes\n",
    "from sklearn.tree import DecisionTreeClassifier\n",
    "from sklearn.metrics import confusion_matrix\n",
    "\n",
    "import matplotlib.pyplot as plt\n",
    "%config InlineBackend.figure_format = 'retina'\n",
    "pd.options.display.float_format = '{:,.3f}'.format\n",
    "\n",
    "def MAPE(y_true, y_pred): # favors estimates below truth\n",
    "    if np.isclose(y_true,0.0).any():\n",
    "        return np.nan\n",
    "    return np.mean(np.abs((y_pred - y_true) / y_true))\n",
    "\n",
    "def MMAR(y_true, y_pred): # mean max abs ratio\n",
    "    y_min = np.minimum(np.abs(y_pred), np.abs(y_true)) # if either is zero, inf\n",
    "    if np.isclose(y_min,0.0).any():\n",
    "        return np.nan\n",
    "    if (np.minimum(y_pred, y_true)<0).any():\n",
    "        return np.nan\n",
    "    a = np.abs(y_pred/y_true)\n",
    "    b = np.abs(y_true/y_pred)\n",
    "    m = np.maximum(a,b)\n",
    "    return np.mean(m)\n",
    "\n",
    "def sMAPE(y_true, y_pred):\n",
    "    # check to ensure neither value is zero at same time\n",
    "    y_max = np.maximum(np.abs(y_pred), np.abs(y_true))\n",
    "    if np.isclose(y_max,0.0).any():\n",
    "        return np.nan\n",
    "    e = np.abs(y_pred - y_true)\n",
    "    avg = (0.5 * (np.abs(y_pred) + np.abs(y_true)))\n",
    "    return np.mean(e / avg)"
   ]
  },
  {
   "cell_type": "markdown",
   "metadata": {},
   "source": [
    "## Training set metric on random data"
   ]
  },
  {
   "cell_type": "code",
   "execution_count": 2,
   "metadata": {},
   "outputs": [
    {
     "data": {
      "text/plain": [
       "0.8416108686339763"
      ]
     },
     "execution_count": 2,
     "metadata": {},
     "output_type": "execute_result"
    }
   ],
   "source": [
    "X_train = np.random.random((1000,4))\n",
    "y_train = np.random.random(1000)\n",
    "rf = RandomForestRegressor(n_estimators=100)\n",
    "rf.fit(X_train, y_train)\n",
    "rf.score(X_train, y_train)"
   ]
  },
  {
   "cell_type": "markdown",
   "metadata": {},
   "source": [
    "## NYC rent testing"
   ]
  },
  {
   "cell_type": "code",
   "execution_count": 3,
   "metadata": {},
   "outputs": [
    {
     "data": {
      "text/html": [
       "<div>\n",
       "<style scoped>\n",
       "    .dataframe tbody tr th:only-of-type {\n",
       "        vertical-align: middle;\n",
       "    }\n",
       "\n",
       "    .dataframe tbody tr th {\n",
       "        vertical-align: top;\n",
       "    }\n",
       "\n",
       "    .dataframe thead th {\n",
       "        text-align: right;\n",
       "    }\n",
       "</style>\n",
       "<table border=\"1\" class=\"dataframe\">\n",
       "  <thead>\n",
       "    <tr style=\"text-align: right;\">\n",
       "      <th></th>\n",
       "      <th>bedrooms</th>\n",
       "      <th>bathrooms</th>\n",
       "      <th>latitude</th>\n",
       "      <th>longitude</th>\n",
       "    </tr>\n",
       "  </thead>\n",
       "  <tbody>\n",
       "    <tr>\n",
       "      <th>4</th>\n",
       "      <td>1</td>\n",
       "      <td>1.000</td>\n",
       "      <td>40.711</td>\n",
       "      <td>-73.954</td>\n",
       "    </tr>\n",
       "    <tr>\n",
       "      <th>6</th>\n",
       "      <td>2</td>\n",
       "      <td>1.000</td>\n",
       "      <td>40.751</td>\n",
       "      <td>-73.972</td>\n",
       "    </tr>\n",
       "    <tr>\n",
       "      <th>9</th>\n",
       "      <td>2</td>\n",
       "      <td>1.000</td>\n",
       "      <td>40.758</td>\n",
       "      <td>-73.963</td>\n",
       "    </tr>\n",
       "    <tr>\n",
       "      <th>10</th>\n",
       "      <td>3</td>\n",
       "      <td>1.500</td>\n",
       "      <td>40.715</td>\n",
       "      <td>-73.942</td>\n",
       "    </tr>\n",
       "    <tr>\n",
       "      <th>15</th>\n",
       "      <td>0</td>\n",
       "      <td>1.000</td>\n",
       "      <td>40.744</td>\n",
       "      <td>-73.974</td>\n",
       "    </tr>\n",
       "  </tbody>\n",
       "</table>\n",
       "</div>"
      ],
      "text/plain": [
       "    bedrooms  bathrooms  latitude  longitude\n",
       "4          1      1.000    40.711    -73.954\n",
       "6          2      1.000    40.751    -73.972\n",
       "9          2      1.000    40.758    -73.963\n",
       "10         3      1.500    40.715    -73.942\n",
       "15         0      1.000    40.744    -73.974"
      ]
     },
     "execution_count": 3,
     "metadata": {},
     "output_type": "execute_result"
    }
   ],
   "source": [
    "df_rent = pd.read_json(\"data/rent-train.json\")\n",
    "features = ['bedrooms', 'bathrooms', 'latitude', 'longitude']\n",
    "df_rent = df_rent[features+['price']]\n",
    "X = df_rent.drop('price', axis=1)\n",
    "y = df_rent['price']\n",
    "X.head()"
   ]
  },
  {
   "cell_type": "code",
   "execution_count": 4,
   "metadata": {},
   "outputs": [
    {
     "data": {
      "text/html": [
       "<div>\n",
       "<style scoped>\n",
       "    .dataframe tbody tr th:only-of-type {\n",
       "        vertical-align: middle;\n",
       "    }\n",
       "\n",
       "    .dataframe tbody tr th {\n",
       "        vertical-align: top;\n",
       "    }\n",
       "\n",
       "    .dataframe thead th {\n",
       "        text-align: right;\n",
       "    }\n",
       "</style>\n",
       "<table border=\"1\" class=\"dataframe\">\n",
       "  <thead>\n",
       "    <tr style=\"text-align: right;\">\n",
       "      <th></th>\n",
       "      <th>description</th>\n",
       "      <th>features</th>\n",
       "    </tr>\n",
       "  </thead>\n",
       "  <tbody>\n",
       "    <tr>\n",
       "      <th>9</th>\n",
       "      <td>**FLEX 2 BEDROOM WITH FULL PRESSURIZED WALL**L...</td>\n",
       "      <td>[Doorman, Elevator, Laundry in Building, Laund...</td>\n",
       "    </tr>\n",
       "    <tr>\n",
       "      <th>10</th>\n",
       "      <td>A Brand New 3 Bedroom 1.5 bath ApartmentEnjoy ...</td>\n",
       "      <td>[]</td>\n",
       "    </tr>\n",
       "  </tbody>\n",
       "</table>\n",
       "</div>"
      ],
      "text/plain": [
       "                                          description  \\\n",
       "9   **FLEX 2 BEDROOM WITH FULL PRESSURIZED WALL**L...   \n",
       "10  A Brand New 3 Bedroom 1.5 bath ApartmentEnjoy ...   \n",
       "\n",
       "                                             features  \n",
       "9   [Doorman, Elevator, Laundry in Building, Laund...  \n",
       "10                                                 []  "
      ]
     },
     "execution_count": 4,
     "metadata": {},
     "output_type": "execute_result"
    }
   ],
   "source": [
    "df_rent = pd.read_json(\"data/rent-train.json\")\n",
    "df_rent[['description','features']][2:4]"
   ]
  },
  {
   "cell_type": "markdown",
   "metadata": {},
   "source": [
    "**Break out 20% hold out validation set**"
   ]
  },
  {
   "cell_type": "code",
   "execution_count": 5,
   "metadata": {},
   "outputs": [],
   "source": [
    "X_train, X_test, y_train, y_test = train_test_split(X, y, test_size=0.2)"
   ]
  },
  {
   "cell_type": "markdown",
   "metadata": {},
   "source": [
    "**Train model, compute metrics**"
   ]
  },
  {
   "cell_type": "code",
   "execution_count": 6,
   "metadata": {},
   "outputs": [],
   "source": [
    "def test():\n",
    "    rf = RandomForestRegressor(n_estimators=50, oob_score=True, n_jobs=-1)\n",
    "    rf.fit(X_train, y_train)\n",
    "    oob = rf.oob_score_ # wow this is a terrible score\n",
    "    y_pred = rf.predict(X_test)\n",
    "    mae = mean_absolute_error(y_test, y_pred)\n",
    "    mse = mean_squared_error(y_test, y_pred)\n",
    "    r2 = r2_score(y_test, y_pred)\n",
    "    return (oob,r2,mae,mse)\n",
    "    df_metrics = pd.DataFrame([[oob,r2,mae,mse]],\n",
    "                              columns=['OOB', 'R^2', 'MAE', 'MSE'])\n",
    "    print(df_metrics)\n",
    "#    print(f\"{oob:4.2f}, {r2:5.2f}, {mae:5.2f}, {mse:.2f}\")"
   ]
  },
  {
   "cell_type": "markdown",
   "metadata": {},
   "source": [
    "**This error is stable; just variation due to RF**"
   ]
  },
  {
   "cell_type": "code",
   "execution_count": 7,
   "metadata": {},
   "outputs": [
    {
     "data": {
      "text/html": [
       "<div>\n",
       "<style scoped>\n",
       "    .dataframe tbody tr th:only-of-type {\n",
       "        vertical-align: middle;\n",
       "    }\n",
       "\n",
       "    .dataframe tbody tr th {\n",
       "        vertical-align: top;\n",
       "    }\n",
       "\n",
       "    .dataframe thead th {\n",
       "        text-align: right;\n",
       "    }\n",
       "</style>\n",
       "<table border=\"1\" class=\"dataframe\">\n",
       "  <thead>\n",
       "    <tr style=\"text-align: right;\">\n",
       "      <th></th>\n",
       "      <th>OOB</th>\n",
       "      <th>R^2</th>\n",
       "      <th>MAE</th>\n",
       "      <th>MSE</th>\n",
       "    </tr>\n",
       "  </thead>\n",
       "  <tbody>\n",
       "    <tr>\n",
       "      <th>0</th>\n",
       "      <td>-0.149</td>\n",
       "      <td>0.559</td>\n",
       "      <td>389.255</td>\n",
       "      <td>3,624,944.824</td>\n",
       "    </tr>\n",
       "    <tr>\n",
       "      <th>1</th>\n",
       "      <td>-0.132</td>\n",
       "      <td>0.559</td>\n",
       "      <td>392.311</td>\n",
       "      <td>3,624,729.233</td>\n",
       "    </tr>\n",
       "    <tr>\n",
       "      <th>2</th>\n",
       "      <td>-0.066</td>\n",
       "      <td>0.481</td>\n",
       "      <td>398.587</td>\n",
       "      <td>4,271,988.115</td>\n",
       "    </tr>\n",
       "  </tbody>\n",
       "</table>\n",
       "</div>"
      ],
      "text/plain": [
       "     OOB   R^2     MAE           MSE\n",
       "0 -0.149 0.559 389.255 3,624,944.824\n",
       "1 -0.132 0.559 392.311 3,624,729.233\n",
       "2 -0.066 0.481 398.587 4,271,988.115"
      ]
     },
     "execution_count": 7,
     "metadata": {},
     "output_type": "execute_result"
    }
   ],
   "source": [
    "pd.DataFrame([test() for i in range(3)], columns=['OOB', 'R^2', 'MAE', 'MSE'])"
   ]
  },
  {
   "cell_type": "markdown",
   "metadata": {},
   "source": [
    "**Very unstable if we pick more valid sets**"
   ]
  },
  {
   "cell_type": "code",
   "execution_count": 8,
   "metadata": {},
   "outputs": [
    {
     "data": {
      "text/html": [
       "<div>\n",
       "<style scoped>\n",
       "    .dataframe tbody tr th:only-of-type {\n",
       "        vertical-align: middle;\n",
       "    }\n",
       "\n",
       "    .dataframe tbody tr th {\n",
       "        vertical-align: top;\n",
       "    }\n",
       "\n",
       "    .dataframe thead th {\n",
       "        text-align: right;\n",
       "    }\n",
       "</style>\n",
       "<table border=\"1\" class=\"dataframe\">\n",
       "  <thead>\n",
       "    <tr style=\"text-align: right;\">\n",
       "      <th></th>\n",
       "      <th>OOB</th>\n",
       "      <th>R^2</th>\n",
       "      <th>MAE</th>\n",
       "      <th>MSE</th>\n",
       "    </tr>\n",
       "  </thead>\n",
       "  <tbody>\n",
       "    <tr>\n",
       "      <th>0</th>\n",
       "      <td>0.006</td>\n",
       "      <td>-11.293</td>\n",
       "      <td>982.575</td>\n",
       "      <td>1,489,007,667.048</td>\n",
       "    </tr>\n",
       "    <tr>\n",
       "      <th>1</th>\n",
       "      <td>-0.243</td>\n",
       "      <td>0.481</td>\n",
       "      <td>400.620</td>\n",
       "      <td>4,115,905.337</td>\n",
       "    </tr>\n",
       "    <tr>\n",
       "      <th>2</th>\n",
       "      <td>-0.413</td>\n",
       "      <td>-1.276</td>\n",
       "      <td>766.737</td>\n",
       "      <td>582,797,655.975</td>\n",
       "    </tr>\n",
       "    <tr>\n",
       "      <th>3</th>\n",
       "      <td>-0.096</td>\n",
       "      <td>0.837</td>\n",
       "      <td>429.847</td>\n",
       "      <td>19,675,784.139</td>\n",
       "    </tr>\n",
       "    <tr>\n",
       "      <th>4</th>\n",
       "      <td>-0.339</td>\n",
       "      <td>-1.231</td>\n",
       "      <td>756.680</td>\n",
       "      <td>525,960,734.299</td>\n",
       "    </tr>\n",
       "  </tbody>\n",
       "</table>\n",
       "</div>"
      ],
      "text/plain": [
       "     OOB     R^2     MAE               MSE\n",
       "0  0.006 -11.293 982.575 1,489,007,667.048\n",
       "1 -0.243   0.481 400.620     4,115,905.337\n",
       "2 -0.413  -1.276 766.737   582,797,655.975\n",
       "3 -0.096   0.837 429.847    19,675,784.139\n",
       "4 -0.339  -1.231 756.680   525,960,734.299"
      ]
     },
     "execution_count": 8,
     "metadata": {},
     "output_type": "execute_result"
    }
   ],
   "source": [
    "results = []\n",
    "for i in range(5):\n",
    "    X_train, X_test, y_train, y_test = train_test_split(X, y, test_size=0.2)\n",
    "    results.append( test() )\n",
    "df_results = pd.DataFrame(results, columns=['OOB', 'R^2', 'MAE', 'MSE'])\n",
    "df_results"
   ]
  },
  {
   "cell_type": "code",
   "execution_count": 9,
   "metadata": {},
   "outputs": [
    {
     "data": {
      "text/plain": [
       "OOB             0.172\n",
       "R^2             5.011\n",
       "MAE           247.375\n",
       "MSE   604,012,149.621\n",
       "dtype: float64"
      ]
     },
     "execution_count": 9,
     "metadata": {},
     "output_type": "execute_result"
    }
   ],
   "source": [
    "df_results.std()"
   ]
  },
  {
   "cell_type": "markdown",
   "metadata": {},
   "source": [
    "**Try k-fold**"
   ]
  },
  {
   "cell_type": "code",
   "execution_count": 10,
   "metadata": {},
   "outputs": [
    {
     "data": {
      "text/html": [
       "<div>\n",
       "<style scoped>\n",
       "    .dataframe tbody tr th:only-of-type {\n",
       "        vertical-align: middle;\n",
       "    }\n",
       "\n",
       "    .dataframe tbody tr th {\n",
       "        vertical-align: top;\n",
       "    }\n",
       "\n",
       "    .dataframe thead th {\n",
       "        text-align: right;\n",
       "    }\n",
       "</style>\n",
       "<table border=\"1\" class=\"dataframe\">\n",
       "  <thead>\n",
       "    <tr style=\"text-align: right;\">\n",
       "      <th></th>\n",
       "      <th>OOB</th>\n",
       "      <th>R^2</th>\n",
       "      <th>MAE</th>\n",
       "      <th>MSE</th>\n",
       "    </tr>\n",
       "  </thead>\n",
       "  <tbody>\n",
       "    <tr>\n",
       "      <th>0</th>\n",
       "      <td>-0.247</td>\n",
       "      <td>-52.624</td>\n",
       "      <td>575.575</td>\n",
       "      <td>362,852,224.516</td>\n",
       "    </tr>\n",
       "    <tr>\n",
       "      <th>1</th>\n",
       "      <td>-0.290</td>\n",
       "      <td>-0.320</td>\n",
       "      <td>671.400</td>\n",
       "      <td>334,872,658.788</td>\n",
       "    </tr>\n",
       "    <tr>\n",
       "      <th>2</th>\n",
       "      <td>-0.162</td>\n",
       "      <td>0.494</td>\n",
       "      <td>385.504</td>\n",
       "      <td>2,292,926.068</td>\n",
       "    </tr>\n",
       "    <tr>\n",
       "      <th>3</th>\n",
       "      <td>-0.143</td>\n",
       "      <td>0.614</td>\n",
       "      <td>383.174</td>\n",
       "      <td>2,943,516.927</td>\n",
       "    </tr>\n",
       "    <tr>\n",
       "      <th>4</th>\n",
       "      <td>0.027</td>\n",
       "      <td>0.049</td>\n",
       "      <td>904.402</td>\n",
       "      <td>2,055,986,105.459</td>\n",
       "    </tr>\n",
       "  </tbody>\n",
       "</table>\n",
       "</div>"
      ],
      "text/plain": [
       "     OOB     R^2     MAE               MSE\n",
       "0 -0.247 -52.624 575.575   362,852,224.516\n",
       "1 -0.290  -0.320 671.400   334,872,658.788\n",
       "2 -0.162   0.494 385.504     2,292,926.068\n",
       "3 -0.143   0.614 383.174     2,943,516.927\n",
       "4  0.027   0.049 904.402 2,055,986,105.459"
      ]
     },
     "execution_count": 10,
     "metadata": {},
     "output_type": "execute_result"
    }
   ],
   "source": [
    "k = 5\n",
    "kf = KFold(n_splits=k, shuffle=True)\n",
    "results = []\n",
    "for train_index, test_index in kf.split(X):\n",
    "    X_train, X_test = X.iloc[train_index], X.iloc[test_index]\n",
    "    y_train, y_test = y.iloc[train_index], y.iloc[test_index]\n",
    "    results.append( test() )\n",
    "df_results_kfold = pd.DataFrame(results, columns=['OOB', 'R^2', 'MAE', 'MSE'])\n",
    "df_results_kfold"
   ]
  },
  {
   "cell_type": "code",
   "execution_count": 11,
   "metadata": {},
   "outputs": [
    {
     "data": {
      "text/plain": [
       "OOB             0.122\n",
       "R^2            23.631\n",
       "MAE           218.001\n",
       "MSE   858,565,087.201\n",
       "dtype: float64"
      ]
     },
     "execution_count": 11,
     "metadata": {},
     "output_type": "execute_result"
    }
   ],
   "source": [
    "df_results_kfold.std() # still unstable; try running it multiple times"
   ]
  },
  {
   "cell_type": "code",
   "execution_count": 12,
   "metadata": {},
   "outputs": [
    {
     "data": {
      "text/plain": [
       "array([554.28698716, 381.86783002, 514.81718717, 402.86766449,\n",
       "       454.92231636])"
      ]
     },
     "execution_count": 12,
     "metadata": {},
     "output_type": "execute_result"
    }
   ],
   "source": [
    "k = 5\n",
    "cvscore = cross_val_score(\n",
    "\t\t\tRandomForestRegressor(n_estimators=50), # which model to use\n",
    "\t\t\tX_train, y_train, # what training data to split up\n",
    "\t\t\tcv=k, # number of folds/chunks\n",
    "\t\t\tscoring='neg_mean_absolute_error') # what error metric\n",
    "-cvscore"
   ]
  },
  {
   "cell_type": "markdown",
   "metadata": {},
   "source": [
    "## Classifiers"
   ]
  },
  {
   "cell_type": "code",
   "execution_count": 13,
   "metadata": {},
   "outputs": [
    {
     "data": {
      "text/plain": [
       "array([[44,  4],\n",
       "       [ 1, 65]])"
      ]
     },
     "execution_count": 13,
     "metadata": {},
     "output_type": "execute_result"
    }
   ],
   "source": [
    "\n",
    "cancer = load_breast_cancer()\n",
    "X = cancer.data\n",
    "y = cancer.target\n",
    "\n",
    "X_train, X_test, y_train, y_test = train_test_split(X, y, test_size=0.2)\n",
    "\n",
    "rf = RandomForestClassifier(n_estimators=30, n_jobs=-1)\n",
    "rf.fit(X_train, y_train)\n",
    "y_pred = rf.predict(X_test)\n",
    "\n",
    "C = confusion_matrix(y_test, y_pred)\n",
    "C"
   ]
  },
  {
   "cell_type": "code",
   "execution_count": 14,
   "metadata": {},
   "outputs": [
    {
     "data": {
      "text/plain": [
       "(44, 4, 1, 65)"
      ]
     },
     "execution_count": 14,
     "metadata": {},
     "output_type": "execute_result"
    }
   ],
   "source": [
    "tn, fp, fn, tp = confusion_matrix(y_test, y_pred).flatten()\n",
    "tn, fp, fn, tp"
   ]
  },
  {
   "cell_type": "code",
   "execution_count": 15,
   "metadata": {},
   "outputs": [
    {
     "name": "stdout",
     "output_type": "stream",
     "text": [
      "              precision    recall  f1-score   support\n",
      "\n",
      "           0       0.98      0.92      0.95        48\n",
      "           1       0.94      0.98      0.96        66\n",
      "\n",
      "    accuracy                           0.96       114\n",
      "   macro avg       0.96      0.95      0.95       114\n",
      "weighted avg       0.96      0.96      0.96       114\n",
      "\n"
     ]
    }
   ],
   "source": [
    "from sklearn.metrics import classification_report\n",
    "\n",
    "print(classification_report(y_test, y_pred))"
   ]
  },
  {
   "cell_type": "markdown",
   "metadata": {},
   "source": [
    "## R^2"
   ]
  },
  {
   "cell_type": "code",
   "execution_count": 16,
   "metadata": {},
   "outputs": [
    {
     "data": {
      "text/plain": [
       "Text(0.5, 1.0, '$R^2$ = 0.987')"
      ]
     },
     "execution_count": 16,
     "metadata": {},
     "output_type": "execute_result"
    },
    {
     "data": {
      "image/png": "[encoded data removed]",
      "text/plain": [
       "<Figure size 216x180 with 1 Axes>"
      ]
     },
     "metadata": {
      "image/png": {
       "height": 183,
       "width": 205
      },
      "needs_background": "light"
     },
     "output_type": "display_data"
    }
   ],
   "source": [
    "n = 100\n",
    "x = np.random.random(size=n)*10\n",
    "y = x + np.sin(x)*.45 + np.random.normal(size=n)*.1\n",
    "plt.figure(figsize=(3,2.5))\n",
    "plt.scatter(x,y,s=3)\n",
    "\n",
    "lm = LinearRegression()\n",
    "lm.fit(x.reshape(-1,1), y)\n",
    "y_pred = lm.predict(x.reshape(-1,1))\n",
    "plt.plot(x, y_pred, c='orange')\n",
    "plt.title(f\"$R^2$ = {lm.score(x.reshape(-1,1),y):.3f}\", fontsize=12)"
   ]
  },
  {
   "cell_type": "code",
   "execution_count": 17,
   "metadata": {},
   "outputs": [
    {
     "data": {
      "image/png": "[encoded data removed]",
      "text/plain": [
       "<Figure size 221.76x180 with 1 Axes>"
      ]
     },
     "metadata": {
      "image/png": {
       "height": 185,
       "width": 221
      },
      "needs_background": "light"
     },
     "output_type": "display_data"
    }
   ],
   "source": [
    "plt.figure(figsize=(3.08,2.5))\n",
    "plt.scatter(x, y-y_pred, s=3)\n",
    "plt.title(\"Residuals of OLS $y - \\hat{y}$\")\n",
    "plt.show()"
   ]
  },
  {
   "cell_type": "code",
   "execution_count": 18,
   "metadata": {},
   "outputs": [
    {
     "data": {
      "text/html": [
       "<div>\n",
       "<style scoped>\n",
       "    .dataframe tbody tr th:only-of-type {\n",
       "        vertical-align: middle;\n",
       "    }\n",
       "\n",
       "    .dataframe tbody tr th {\n",
       "        vertical-align: top;\n",
       "    }\n",
       "\n",
       "    .dataframe thead th {\n",
       "        text-align: right;\n",
       "    }\n",
       "</style>\n",
       "<table border=\"1\" class=\"dataframe\">\n",
       "  <thead>\n",
       "    <tr style=\"text-align: right;\">\n",
       "      <th></th>\n",
       "      <th>x</th>\n",
       "      <th>y</th>\n",
       "    </tr>\n",
       "  </thead>\n",
       "  <tbody>\n",
       "    <tr>\n",
       "      <th>0</th>\n",
       "      <td>0.000</td>\n",
       "      <td>-0.777</td>\n",
       "    </tr>\n",
       "    <tr>\n",
       "      <th>1</th>\n",
       "      <td>1.111</td>\n",
       "      <td>2.742</td>\n",
       "    </tr>\n",
       "    <tr>\n",
       "      <th>2</th>\n",
       "      <td>2.222</td>\n",
       "      <td>2.149</td>\n",
       "    </tr>\n",
       "    <tr>\n",
       "      <th>3</th>\n",
       "      <td>3.333</td>\n",
       "      <td>1.719</td>\n",
       "    </tr>\n",
       "    <tr>\n",
       "      <th>4</th>\n",
       "      <td>4.444</td>\n",
       "      <td>4.665</td>\n",
       "    </tr>\n",
       "    <tr>\n",
       "      <th>5</th>\n",
       "      <td>5.556</td>\n",
       "      <td>3.312</td>\n",
       "    </tr>\n",
       "    <tr>\n",
       "      <th>6</th>\n",
       "      <td>6.667</td>\n",
       "      <td>6.491</td>\n",
       "    </tr>\n",
       "    <tr>\n",
       "      <th>7</th>\n",
       "      <td>7.778</td>\n",
       "      <td>7.599</td>\n",
       "    </tr>\n",
       "    <tr>\n",
       "      <th>8</th>\n",
       "      <td>8.889</td>\n",
       "      <td>9.620</td>\n",
       "    </tr>\n",
       "    <tr>\n",
       "      <th>9</th>\n",
       "      <td>10.000</td>\n",
       "      <td>10.797</td>\n",
       "    </tr>\n",
       "  </tbody>\n",
       "</table>\n",
       "</div>"
      ],
      "text/plain": [
       "       x      y\n",
       "0  0.000 -0.777\n",
       "1  1.111  2.742\n",
       "2  2.222  2.149\n",
       "3  3.333  1.719\n",
       "4  4.444  4.665\n",
       "5  5.556  3.312\n",
       "6  6.667  6.491\n",
       "7  7.778  7.599\n",
       "8  8.889  9.620\n",
       "9 10.000 10.797"
      ]
     },
     "execution_count": 18,
     "metadata": {},
     "output_type": "execute_result"
    }
   ],
   "source": [
    "n = 10\n",
    "df = pd.DataFrame()\n",
    "df['x'] = np.linspace(0,10,num=n)\n",
    "df['y'] = df['x'] + np.random.normal(0,1,size=n)\n",
    "df"
   ]
  },
  {
   "cell_type": "markdown",
   "metadata": {},
   "source": [
    "## MAE,MSE"
   ]
  },
  {
   "cell_type": "code",
   "execution_count": 19,
   "metadata": {},
   "outputs": [
    {
     "data": {
      "text/plain": [
       "0.8888816057651303"
      ]
     },
     "execution_count": 19,
     "metadata": {},
     "output_type": "execute_result"
    }
   ],
   "source": [
    "n = 10\n",
    "df = pd.DataFrame()\n",
    "df['x'] = np.linspace(0,10,num=n)\n",
    "df['y'] = df['x'] + np.random.normal(0,1,size=n)\n",
    "\n",
    "X, y = df.drop('y',axis=1), df['y']\n",
    "lm = LinearRegression()\n",
    "lm.fit(X, y)\n",
    "beta0 = lm.intercept_\n",
    "beta1 = lm.coef_[0]\n",
    "lm.score(X, y)"
   ]
  },
  {
   "cell_type": "code",
   "execution_count": 20,
   "metadata": {},
   "outputs": [
    {
     "data": {
      "text/plain": [
       "Text(0.5, 1.0, 'MAE 0.80, MSE 0.95,\\nMAPE($y,\\\\hat{y}$) 0.26, MAPE($\\\\hat{y}, y$) 0.36')"
      ]
     },
     "execution_count": 20,
     "metadata": {},
     "output_type": "execute_result"
    },
    {
     "data": {
      "image/png": "[encoded data removed]",
      "text/plain": [
       "<Figure size 216x180 with 1 Axes>"
      ]
     },
     "metadata": {
      "image/png": {
       "height": 210,
       "width": 221
      },
      "needs_background": "light"
     },
     "output_type": "display_data"
    }
   ],
   "source": [
    "plt.figure(figsize=(3,2.5))\n",
    "plt.scatter(df['x'], df['y'], s=10)\n",
    "plt.plot(df['x'], df['x']*lm.coef_[0] + lm.intercept_, c='orange')\n",
    "plt.xlabel(\"x\", fontsize=12)\n",
    "plt.ylabel(\"y\", fontsize=12)\n",
    "y_pred = lm.predict(X)\n",
    "plt.title(f\"MAE {mean_absolute_error(y,y_pred):.2f}, MSE {mean_squared_error(y,y_pred):.2f},\\nMAPE($y,\\hat{{y}}$) {MAPE(y,y_pred):.2f}, MAPE($\\hat{{y}}, y$) {MAPE(y_pred,y):.2f}\", fontsize=10)\n",
    "#plt.title(f\"$R^2$ = {lm.score(X,y):.3f}\", fontsize=12)"
   ]
  },
  {
   "cell_type": "code",
   "execution_count": 21,
   "metadata": {},
   "outputs": [],
   "source": [
    "y.iloc[-1] = 100"
   ]
  },
  {
   "cell_type": "code",
   "execution_count": 22,
   "metadata": {},
   "outputs": [
    {
     "data": {
      "text/plain": [
       "Text(0, 0.5, 'y')"
      ]
     },
     "execution_count": 22,
     "metadata": {},
     "output_type": "execute_result"
    },
    {
     "data": {
      "image/png": "[encoded data removed]",
      "text/plain": [
       "<Figure size 216x180 with 1 Axes>"
      ]
     },
     "metadata": {
      "image/png": {
       "height": 210,
       "width": 227
      },
      "needs_background": "light"
     },
     "output_type": "display_data"
    }
   ],
   "source": [
    "plt.figure(figsize=(3,2.5))\n",
    "\n",
    "X, y = df.drop('y',axis=1), df['y']\n",
    "lm = LinearRegression()\n",
    "lm.fit(X, y)\n",
    "beta0 = lm.intercept_\n",
    "beta1 = lm.coef_[0]\n",
    "lm.score(X, y)\n",
    "y_pred = lm.predict(X)\n",
    "plt.title(f\"MAE {mean_absolute_error(y,y_pred):.2f}, MSE {mean_squared_error(y,y_pred):.2f},\\nMAPE($y,\\hat{{y}}$) {MAPE(y,y_pred):.2f}, MAPE($\\hat{{y}}, y$) {MAPE(y_pred,y):.2f}\", fontsize=10)\n",
    "\n",
    "plt.scatter(df['x'], df['y'], s=10)\n",
    "plt.plot(df['x'], df['x']*lm.coef_[0] + lm.intercept_, c='orange')\n",
    "plt.xlabel(\"x\", fontsize=12)\n",
    "plt.ylabel(\"y\", fontsize=12)\n",
    "#plt.title(f\"$R^2$ = {lm.score(X,y):.3f}\", fontsize=12)"
   ]
  },
  {
   "cell_type": "code",
   "execution_count": 23,
   "metadata": {},
   "outputs": [
    {
     "data": {
      "text/plain": [
       "Text(0, 0.5, 'y')"
      ]
     },
     "execution_count": 23,
     "metadata": {},
     "output_type": "execute_result"
    },
    {
     "data": {
      "image/png": "[encoded data removed]",
      "text/plain": [
       "<Figure size 216x180 with 1 Axes>"
      ]
     },
     "metadata": {
      "image/png": {
       "height": 210,
       "width": 227
      },
      "needs_background": "light"
     },
     "output_type": "display_data"
    }
   ],
   "source": [
    "plt.figure(figsize=(3,2.5))\n",
    "\n",
    "X, y = df.drop('y',axis=1), df['y']\n",
    "lm = Lasso(alpha=45)\n",
    "lm.fit(X, y)\n",
    "beta0 = lm.intercept_\n",
    "beta1 = lm.coef_[0]\n",
    "lm.score(X, y)\n",
    "y_pred = lm.predict(X)\n",
    "plt.title(f\"MAE {mean_absolute_error(y,y_pred):.2f}, MSE {mean_squared_error(y,y_pred):.2f},\\nMAPE($y,\\hat{{y}}$) {MAPE(y,y_pred):.2f}, MAPE($\\hat{{y}}, y$) {MAPE(y_pred,y):.2f}\", fontsize=10)\n",
    "\n",
    "plt.scatter(df['x'], df['y'], s=10)\n",
    "plt.plot(df['x'], df['x']*lm.coef_[0] + lm.intercept_, c='orange')\n",
    "plt.xlabel(\"x\", fontsize=12)\n",
    "plt.ylabel(\"y\", fontsize=12)\n",
    "#plt.title(f\"$R^2$ = {lm.score(X,y):.3f}\", fontsize=12)"
   ]
  },
  {
   "cell_type": "markdown",
   "metadata": {},
   "source": [
    "## R^2"
   ]
  },
  {
   "cell_type": "code",
   "execution_count": 24,
   "metadata": {},
   "outputs": [
    {
     "data": {
      "text/plain": [
       "0.9668001973838279"
      ]
     },
     "execution_count": 24,
     "metadata": {},
     "output_type": "execute_result"
    }
   ],
   "source": [
    "n = 10\n",
    "df = pd.DataFrame()\n",
    "df['x'] = np.linspace(0,10,num=n)\n",
    "df['y'] = df['x'] + np.random.normal(0,1,size=n)\n",
    "\n",
    "X, y = df.drop('y',axis=1), df['y']\n",
    "lm = LinearRegression()\n",
    "lm.fit(X, y)\n",
    "beta0 = lm.intercept_\n",
    "beta1 = lm.coef_[0]\n",
    "lm.score(X, y)"
   ]
  },
  {
   "cell_type": "code",
   "execution_count": 25,
   "metadata": {},
   "outputs": [
    {
     "data": {
      "text/plain": [
       "Text(0.5, 1.0, '$R^2$ = 0.967')"
      ]
     },
     "execution_count": 25,
     "metadata": {},
     "output_type": "execute_result"
    },
    {
     "data": {
      "image/png": "[encoded data removed]",
      "text/plain": [
       "<Figure size 216x180 with 1 Axes>"
      ]
     },
     "metadata": {
      "image/png": {
       "height": 199,
       "width": 230
      },
      "needs_background": "light"
     },
     "output_type": "display_data"
    }
   ],
   "source": [
    "plt.figure(figsize=(3,2.5))\n",
    "plt.scatter(df['x'], df['y'], s=10)\n",
    "plt.plot(df['x'], df['x']*lm.coef_[0] + lm.intercept_, c='orange')\n",
    "plt.xlabel(\"x\", fontsize=12)\n",
    "plt.ylabel(\"y\", fontsize=12)\n",
    "y_pred = lm.predict(X)\n",
    "plt.title(f\"$R^2$ = {lm.score(X,y):.3f}\", fontsize=12)"
   ]
  },
  {
   "cell_type": "code",
   "execution_count": 26,
   "metadata": {},
   "outputs": [],
   "source": [
    "y.iloc[-1] = 100"
   ]
  },
  {
   "cell_type": "code",
   "execution_count": 27,
   "metadata": {},
   "outputs": [
    {
     "data": {
      "text/plain": [
       "Text(0.5, 1.0, '$R^2$ = 0.382')"
      ]
     },
     "execution_count": 27,
     "metadata": {},
     "output_type": "execute_result"
    },
    {
     "data": {
      "image/png": "[encoded data removed]",
      "text/plain": [
       "<Figure size 216x180 with 1 Axes>"
      ]
     },
     "metadata": {
      "image/png": {
       "height": 199,
       "width": 227
      },
      "needs_background": "light"
     },
     "output_type": "display_data"
    }
   ],
   "source": [
    "plt.figure(figsize=(3,2.5))\n",
    "\n",
    "X, y = df.drop('y',axis=1), df['y']\n",
    "lm = LinearRegression()\n",
    "lm.fit(X, y)\n",
    "beta0 = lm.intercept_\n",
    "beta1 = lm.coef_[0]\n",
    "lm.score(X, y)\n",
    "y_pred = lm.predict(X)\n",
    "\n",
    "plt.scatter(df['x'], df['y'], s=10)\n",
    "plt.plot(df['x'], df['x']*lm.coef_[0] + lm.intercept_, c='orange')\n",
    "plt.xlabel(\"x\", fontsize=12)\n",
    "plt.ylabel(\"y\", fontsize=12)\n",
    "plt.title(f\"$R^2$ = {lm.score(X,y):.3f}\", fontsize=12)"
   ]
  },
  {
   "cell_type": "code",
   "execution_count": 28,
   "metadata": {},
   "outputs": [
    {
     "data": {
      "text/plain": [
       "Text(0.5, 1.0, '$R^2$ = 0.143')"
      ]
     },
     "execution_count": 28,
     "metadata": {},
     "output_type": "execute_result"
    },
    {
     "data": {
      "image/png": "[encoded data removed]",
      "text/plain": [
       "<Figure size 216x180 with 1 Axes>"
      ]
     },
     "metadata": {
      "image/png": {
       "height": 199,
       "width": 227
      },
      "needs_background": "light"
     },
     "output_type": "display_data"
    }
   ],
   "source": [
    "plt.figure(figsize=(3,2.5))\n",
    "\n",
    "X, y = df.drop('y',axis=1), df['y']\n",
    "lm = Lasso(alpha=45)\n",
    "lm.fit(X, y)\n",
    "beta0 = lm.intercept_\n",
    "beta1 = lm.coef_[0]\n",
    "lm.score(X, y)\n",
    "y_pred = lm.predict(X)\n",
    "\n",
    "plt.scatter(df['x'], df['y'], s=10)\n",
    "plt.plot(df['x'], df['x']*lm.coef_[0] + lm.intercept_, c='orange')\n",
    "plt.xlabel(\"x\", fontsize=12)\n",
    "plt.ylabel(\"y\", fontsize=12)\n",
    "plt.title(f\"$R^2$ = {lm.score(X,y):.3f}\", fontsize=12)"
   ]
  },
  {
   "cell_type": "markdown",
   "metadata": {},
   "source": [
    "## sMAPE"
   ]
  },
  {
   "cell_type": "code",
   "execution_count": 29,
   "metadata": {},
   "outputs": [
    {
     "data": {
      "text/plain": [
       "0.9350380307475594"
      ]
     },
     "execution_count": 29,
     "metadata": {},
     "output_type": "execute_result"
    }
   ],
   "source": [
    "n = 10\n",
    "df = pd.DataFrame()\n",
    "df['x'] = np.linspace(0,10,num=n)\n",
    "df['y'] = df['x'] + np.random.normal(0,1,size=n)\n",
    "\n",
    "X, y = df.drop('y',axis=1), df['y']\n",
    "lm = LinearRegression()\n",
    "lm.fit(X, y)\n",
    "beta0 = lm.intercept_\n",
    "beta1 = lm.coef_[0]\n",
    "lm.score(X, y)"
   ]
  },
  {
   "cell_type": "code",
   "execution_count": 30,
   "metadata": {},
   "outputs": [
    {
     "data": {
      "text/plain": [
       "Text(0.5, 1.0, 'sMAPE 0.26')"
      ]
     },
     "execution_count": 30,
     "metadata": {},
     "output_type": "execute_result"
    },
    {
     "data": {
      "image/png": "[encoded data removed]",
      "text/plain": [
       "<Figure size 216x180 with 1 Axes>"
      ]
     },
     "metadata": {
      "image/png": {
       "height": 196,
       "width": 221
      },
      "needs_background": "light"
     },
     "output_type": "display_data"
    }
   ],
   "source": [
    "plt.figure(figsize=(3,2.5))\n",
    "plt.scatter(df['x'], df['y'], s=10)\n",
    "plt.plot(df['x'], df['x']*lm.coef_[0] + lm.intercept_, c='orange')\n",
    "plt.xlabel(\"x\", fontsize=12)\n",
    "plt.ylabel(\"y\", fontsize=12)\n",
    "y_pred = lm.predict(X)\n",
    "plt.title(f\"sMAPE {sMAPE(y,y_pred):.2f}\", fontsize=10)"
   ]
  },
  {
   "cell_type": "code",
   "execution_count": 31,
   "metadata": {},
   "outputs": [],
   "source": [
    "y.iloc[-1] = 100"
   ]
  },
  {
   "cell_type": "code",
   "execution_count": 32,
   "metadata": {},
   "outputs": [
    {
     "data": {
      "text/plain": [
       "Text(0, 0.5, 'y')"
      ]
     },
     "execution_count": 32,
     "metadata": {},
     "output_type": "execute_result"
    },
    {
     "data": {
      "image/png": "[encoded data removed]",
      "text/plain": [
       "<Figure size 216x180 with 1 Axes>"
      ]
     },
     "metadata": {
      "image/png": {
       "height": 196,
       "width": 227
      },
      "needs_background": "light"
     },
     "output_type": "display_data"
    }
   ],
   "source": [
    "plt.figure(figsize=(3,2.5))\n",
    "\n",
    "X, y = df.drop('y',axis=1), df['y']\n",
    "lm = LinearRegression()\n",
    "lm.fit(X, y)\n",
    "beta0 = lm.intercept_\n",
    "beta1 = lm.coef_[0]\n",
    "lm.score(X, y)\n",
    "y_pred = lm.predict(X)\n",
    "plt.title(f\"sMAPE {sMAPE(y,y_pred):.2f}\", fontsize=10)\n",
    "plt.scatter(df['x'], df['y'], s=10)\n",
    "plt.plot(df['x'], df['x']*lm.coef_[0] + lm.intercept_, c='orange')\n",
    "plt.xlabel(\"x\", fontsize=12)\n",
    "plt.ylabel(\"y\", fontsize=12)\n",
    "#plt.title(f\"$R^2$ = {lm.score(X,y):.3f}\", fontsize=12)"
   ]
  },
  {
   "cell_type": "code",
   "execution_count": 33,
   "metadata": {},
   "outputs": [
    {
     "data": {
      "text/plain": [
       "Text(0, 0.5, 'y')"
      ]
     },
     "execution_count": 33,
     "metadata": {},
     "output_type": "execute_result"
    },
    {
     "data": {
      "image/png": "[encoded data removed]",
      "text/plain": [
       "<Figure size 216x180 with 1 Axes>"
      ]
     },
     "metadata": {
      "image/png": {
       "height": 196,
       "width": 227
      },
      "needs_background": "light"
     },
     "output_type": "display_data"
    }
   ],
   "source": [
    "plt.figure(figsize=(3,2.5))\n",
    "\n",
    "X, y = df.drop('y',axis=1), df['y']\n",
    "lm = Lasso(alpha=45)\n",
    "lm.fit(X, y)\n",
    "beta0 = lm.intercept_\n",
    "beta1 = lm.coef_[0]\n",
    "lm.score(X, y)\n",
    "y_pred = lm.predict(X)\n",
    "plt.title(f\"sMAPE {sMAPE(y,y_pred):.2f}\", fontsize=10)\n",
    "plt.scatter(df['x'], df['y'], s=10)\n",
    "plt.plot(df['x'], df['x']*lm.coef_[0] + lm.intercept_, c='orange')\n",
    "plt.xlabel(\"x\", fontsize=12)\n",
    "plt.ylabel(\"y\", fontsize=12)\n",
    "#plt.title(f\"$R^2$ = {lm.score(X,y):.3f}\", fontsize=12)"
   ]
  }
 ],
 "metadata": {
  "kernelspec": {
   "display_name": "Python 3",
   "language": "python",
   "name": "python3"
  },
  "language_info": {
   "codemirror_mode": {
    "name": "ipython",
    "version": 3
   },
   "file_extension": ".py",
   "mimetype": "text/x-python",
   "name": "python",
   "nbconvert_exporter": "python",
   "pygments_lexer": "ipython3",
   "version": "3.8.6"
  }
 },
 "nbformat": 4,
 "nbformat_minor": 4
}
